{
 "cells": [
  {
   "cell_type": "markdown",
   "metadata": {},
   "source": [
    "# Simulation of a quantum algorithm for the inverse travel time problem for graphs"
   ]
  },
  {
   "cell_type": "markdown",
   "metadata": {},
   "source": [
    "This notebook produced the plots in Figure 3 in Appendix A of *Quantum computing algorithms for inverse problems on graphs and an NP-complete inverse problem* (https://arxiv.org/abs/2306.05253) by Joonas Ilmavirta, Matti Lassas, Jinpeng Lu, Lauri Oksanen, and Lauri Ylinen. "
   ]
  },
  {
   "cell_type": "code",
   "execution_count": null,
   "metadata": {},
   "outputs": [],
   "source": [
    "from indexing import *\n",
    "from circuits import *\n",
    "from expected import *\n",
    "\n",
    "from qiskit import QuantumCircuit\n",
    "from qiskit.circuit.library import GroverOperator\n",
    "from qiskit.visualization import plot_distribution\n",
    "\n",
    "import time\n",
    "import math\n",
    "\n",
    "def oracle(imat, pairs_known=None):\n",
    "    ix, ds = dmat2ds(dmat_expected(imat))\n",
    "    if pairs_known is None:\n",
    "        ds_known = ds\n",
    "    else:\n",
    "        ix_known = set([ix.edge(*p) for p in pairs_known])\n",
    "        ds_known = [(ix, d) for (ix, d) in ds if ix in ix_known]\n",
    "    state_qubits = range(ix.num_edges)\n",
    "    return Dist_check(ix, ds_known), list(state_qubits)\n",
    "\n",
    "def build_circuit(imat, pairs_known, n_iterations):\n",
    "    grover_oracle, state_qubits = oracle(imat, pairs_known)\n",
    "    grover_op = GroverOperator(grover_oracle, reflection_qubits=state_qubits)\n",
    "    \n",
    "    qc = QuantumCircuit(grover_op.num_qubits, len(state_qubits))\n",
    "    # Put target qubit into state |->\n",
    "    qc.x(-1)\n",
    "    qc.h(-1)\n",
    "    # Create even superposition of all basis states\n",
    "    qc.h(state_qubits)\n",
    "    # Apply Grover operator n_iterations times\n",
    "    qc.compose(grover_op.power(n_iterations), inplace=True)\n",
    "    # Measure state qubits\n",
    "    qc.measure(state_qubits, state_qubits)\n",
    "    return qc\n",
    "\n",
    "def run_circuit(qc):\n",
    "    from qiskit.primitives import Sampler\n",
    "    sampler = Sampler()\n",
    "    job = sampler.run(qc)\n",
    "    result = job.result()\n",
    "    return result.quasi_dists[0].binary_probabilities()\n",
    "\n",
    "def simulate_circuit(qc):\n",
    "    start = time.time()\n",
    "    quasi_dist = run_circuit(qc)\n",
    "    end = time.time()\n",
    "    print('elapsed time in minutes:', (end - start) / 60)\n",
    "    return quasi_dist\n",
    "\n",
    "def save_plot(plt, filename):\n",
    "    # For simulation, Quasi-Probability is the same as Probability, so change label of y-axis:\n",
    "    ax = plt.gca()\n",
    "    ax.set_ylabel('Probability', fontsize = 14)\n",
    "    ax.set_xlabel('Measurement', fontsize = 14)\n",
    "    ax.tick_params(axis='both', labelrotation=0, labelsize=11)\n",
    "    display(plt)\n",
    "    plt.savefig(filename, bbox_inches = \"tight\", transparent=True)\n",
    "\n",
    "def run_instance(imat, pairs_known, n_iterations, n_to_keep, filename, figsize):\n",
    "    qc = build_circuit(imat, pairs_known, n_iterations)\n",
    "    display(qc.draw('mpl', style=\"iqp\"))\n",
    "    print('number of qubits in the circuit: ', qc.num_qubits)\n",
    "\n",
    "    quasi_dist = simulate_circuit(qc)\n",
    "    if n_to_keep == 'all':\n",
    "        plt = plot_distribution(quasi_dist, figsize=figsize)\n",
    "    else:\n",
    "        plt = plot_distribution(quasi_dist, number_to_keep=n_to_keep, figsize=figsize)\n",
    "    save_plot(plt, filename)"
   ]
  },
  {
   "cell_type": "markdown",
   "metadata": {},
   "source": [
    "## Instance A"
   ]
  },
  {
   "cell_type": "code",
   "execution_count": null,
   "metadata": {},
   "outputs": [],
   "source": [
    "# Test with\n",
    "# 1 - 2 - 0\n",
    "imat = np.full((3,3), False)\n",
    "imat[0, 2] = True\n",
    "imat[1, 2] = True\n",
    "# Pairs of nodes for which distances are known \n",
    "pairs_known = [(0,1)]\n",
    "\n",
    "n_iterations = 2\n",
    "n_to_keep = 'all'\n",
    "filename = 'instance_A.png'\n",
    "figsize = (8,5)\n",
    "run_instance(imat, pairs_known, n_iterations, n_to_keep, filename, figsize)"
   ]
  },
  {
   "cell_type": "markdown",
   "metadata": {},
   "source": [
    "## Instance B"
   ]
  },
  {
   "cell_type": "code",
   "execution_count": null,
   "metadata": {},
   "outputs": [],
   "source": [
    "# Test with\n",
    "# 1   0\n",
    "# |\\ /\n",
    "# | 3\n",
    "# |/\n",
    "# 2\n",
    "imat = np.full((4,4), False)\n",
    "imat[0, 3] = True\n",
    "imat[1, 2] = True\n",
    "imat[1, 3] = True\n",
    "imat[2, 3] = True\n",
    "# Pairs of nodes for which distances are known \n",
    "pairs_known = [(0,1), (0,2), (1, 2)]\n",
    "\n",
    "n_iterations = 6\n",
    "n_to_keep = 1\n",
    "filename = 'instance_B.png'\n",
    "figsize = (2.5,5)\n",
    "run_instance(imat, pairs_known, n_iterations, n_to_keep, filename, figsize)"
   ]
  },
  {
   "cell_type": "markdown",
   "metadata": {},
   "source": [
    "## Instance C"
   ]
  },
  {
   "cell_type": "code",
   "execution_count": null,
   "metadata": {},
   "outputs": [],
   "source": [
    "# Test with\n",
    "# 1   0\n",
    "# |\\ /|\n",
    "# | 4 |\n",
    "# |   |\n",
    "# 2---3\n",
    "imat = np.full((5,5), False)\n",
    "imat[0, 3] = True\n",
    "imat[0, 4] = True\n",
    "imat[1, 2] = True\n",
    "imat[1, 4] = True\n",
    "imat[2, 3] = True\n",
    "# Pairs of nodes for which distances are known \n",
    "pairs_known = [(0,1), (0,2), (0,3), (1,2), (1,3), (2,3)]\n",
    "\n",
    "n_iterations = 13\n",
    "n_to_keep = 4\n",
    "filename = 'instance_C.png'\n",
    "figsize = (8,5)\n",
    "run_instance(imat, pairs_known, n_iterations, n_to_keep, filename, figsize)"
   ]
  },
  {
   "cell_type": "markdown",
   "metadata": {},
   "source": [
    "## Instance D"
   ]
  },
  {
   "cell_type": "code",
   "execution_count": null,
   "metadata": {},
   "outputs": [],
   "source": [
    "# Test with\n",
    "# 1    0\n",
    "#  \\  /\n",
    "#   4\n",
    "#  / \\\n",
    "# 2   3\n",
    "imat = np.full((5,5), False)\n",
    "imat[0, 4] = True\n",
    "imat[1, 4] = True\n",
    "imat[2, 4] = True\n",
    "imat[3, 4] = True\n",
    "# Pairs of nodes for which distances are known \n",
    "pairs_known = [(0,1), (0,2), (0,3), (1,2), (1,3), (2,3)]\n",
    "\n",
    "n_iterations = 25\n",
    "n_to_keep = 1\n",
    "filename = 'instance_D.png'\n",
    "figsize = (2.5,5)\n",
    "run_instance(imat, pairs_known, n_iterations, n_to_keep, filename, figsize)"
   ]
  },
  {
   "cell_type": "markdown",
   "metadata": {},
   "source": [
    "## Record of system information and version numbers of packages"
   ]
  },
  {
   "cell_type": "code",
   "execution_count": null,
   "metadata": {},
   "outputs": [],
   "source": [
    "from Systeminfo.system_Info import SystemInfo\n",
    "\n",
    "system_info = SystemInfo()\n",
    "all_info = system_info.get_all_info()\n",
    "\n",
    "# Print the system information\n",
    "print(\"===== System Information =====\")\n",
    "for key, value in all_info[\"System Information\"].items():\n",
    "    print(f\"{key}: {value}\")\n",
    "\n",
    "# Print the CPU information\n",
    "print(\"\\n===== CPU Information =====\")\n",
    "for key, value in all_info[\"CPU Information\"].items():\n",
    "    print(f\"{key}: {value}\")\n",
    "\n",
    "# Print the GPU information if available\n",
    "if \"GPU Information\" in all_info:\n",
    "    print(\"\\n===== GPU Information =====\")\n",
    "    for gpu_info in all_info[\"GPU Information\"]:\n",
    "        for key, value in gpu_info.items():\n",
    "            print(f\"{key}: {value}\")\n"
   ]
  },
  {
   "cell_type": "code",
   "execution_count": null,
   "metadata": {},
   "outputs": [],
   "source": [
    "pip list"
   ]
  }
 ],
 "metadata": {
  "kernelspec": {
   "display_name": "Python 3 (ipykernel)",
   "language": "python",
   "name": "python3"
  },
  "language_info": {
   "codemirror_mode": {
    "name": "ipython",
    "version": 3
   },
   "file_extension": ".py",
   "mimetype": "text/x-python",
   "name": "python",
   "nbconvert_exporter": "python",
   "pygments_lexer": "ipython3",
   "version": "3.9.6"
  }
 },
 "nbformat": 4,
 "nbformat_minor": 4
}
