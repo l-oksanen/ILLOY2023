{
 "cells": [
  {
   "cell_type": "code",
   "execution_count": null,
   "metadata": {},
   "outputs": [],
   "source": [
    "from indexing import *\n",
    "from circuits import *\n",
    "from expected import *\n",
    "from grover import *\n",
    "import qiskit as qk\n",
    "import qiskit_aer\n",
    "from qiskit.visualization import plot_histogram\n",
    "\n",
    "def run_circuit(qc, shots=1000):\n",
    "    backend = qiskit_aer.AerSimulator(method='statevector')\n",
    "    compiled_circuit = qk.transpile(qc, backend)\n",
    "    result = backend.run(compiled_circuit, shots=shots).result()\n",
    "    counts = result.get_counts(compiled_circuit)\n",
    "    return counts\n",
    "\n",
    "def oracle(imat, pairs_known=None):\n",
    "    ix, ds = dmat2ds(dmat_expected(imat))\n",
    "    if pairs_known is None:\n",
    "        ds_known = ds\n",
    "    else:\n",
    "        ix_known = set([ix.edge(*p) for p in pairs_known])\n",
    "        ds_known = [(ix, d) for (ix, d) in ds if ix in ix_known]\n",
    "    state_qubits = range(ix.num_edges)\n",
    "    return Bitflip2Phaseflip(Dist_check(ix, ds_known)), state_qubits\n",
    "\n",
    "def true_sol(imat):\n",
    "    ix = ind.PathIndexing(imat.shape[0])\n",
    "    return bools2str(imat2edges(ix, imat)[::-1])\n"
   ]
  },
  {
   "cell_type": "code",
   "execution_count": null,
   "metadata": {},
   "outputs": [],
   "source": [
    "# Test with\n",
    "# 0 - 1 - 2\n",
    "imat = np.full((3,3), False)\n",
    "imat[0, 1] = True\n",
    "imat[1, 2] = True\n",
    "# Pairs of nodes for which distances are known \n",
    "pairs_known = [(0,2)]\n",
    "\n",
    "qc = grover(*oracle(imat, pairs_known))\n",
    "counts = run_circuit(qc)\n",
    "display(plot_histogram(counts))\n",
    "print(f'True solution      {true_sol(imat)}')\n",
    "print(f'Most frequent {counts.most_frequent()}')\n"
   ]
  },
  {
   "cell_type": "code",
   "execution_count": null,
   "metadata": {},
   "outputs": [],
   "source": [
    "# Test with\n",
    "# 0 - 1\n",
    "#   / |\n",
    "# 3 - 2\n",
    "imat = np.full((4,4), False)\n",
    "imat[0, 1] = True\n",
    "imat[1, 2] = True\n",
    "imat[1, 3] = True\n",
    "imat[2, 3] = True\n",
    "pairs_known = [(0,2), (0, 3), (2, 3)]\n",
    "\n",
    "o, state = oracle(imat, pairs_known)\n",
    "qc = grover(o, state)\n",
    "counts = run_circuit(qc)\n",
    "display(plot_histogram(counts))\n",
    "print(f'True solution          {true_sol(imat)}')\n",
    "print(f'Most frequent {counts.most_frequent()}')\n"
   ]
  },
  {
   "cell_type": "code",
   "execution_count": null,
   "metadata": {},
   "outputs": [],
   "source": [
    "# Test Konigsberg\n",
    "# 0 - 1 - 2\n",
    "# | / | /\n",
    "# 4 - 3\n",
    "imat = np.full((5,5), False)\n",
    "# Outer cycle\n",
    "imat[0, 1] = True\n",
    "imat[1, 2] = True\n",
    "imat[2, 3] = True\n",
    "imat[3, 4] = True\n",
    "imat[0, 4] = True\n",
    "# Inner edges\n",
    "imat[1, 4] = True\n",
    "imat[1, 3] = True\n",
    "\n",
    "pairs_known = [(0,2), (0, 3), (0, 4), (2, 3), (2, 4), (3, 4)]\n",
    "o, state = oracle(imat, pairs_known)\n",
    "qc = grover(o, state, 1)\n",
    "counts = run_circuit(qc, shots=1)\n",
    "display(plot_histogram(counts))\n",
    "print(f'True solution               {true_sol(imat)}')\n",
    "print(f'Most frequent {counts.most_frequent()}')"
   ]
  }
 ],
 "metadata": {
  "kernelspec": {
   "display_name": "shell",
   "language": "python",
   "name": "python3"
  },
  "language_info": {
   "codemirror_mode": {
    "name": "ipython",
    "version": 3
   },
   "file_extension": ".py",
   "mimetype": "text/x-python",
   "name": "python",
   "nbconvert_exporter": "python",
   "pygments_lexer": "ipython3",
   "version": "3.10.10"
  }
 },
 "nbformat": 4,
 "nbformat_minor": 2
}
