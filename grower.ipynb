{
 "cells": [
  {
   "cell_type": "code",
   "execution_count": null,
   "metadata": {},
   "outputs": [],
   "source": [
    "from indexing import *\n",
    "from circuits import *\n",
    "from expected import *\n",
    "\n",
    "from qiskit import algorithms as alg\n",
    "\n",
    "def setup_grower(imat):\n",
    "    ix, ds = dmat2ds(dmat_expected(imat))\n",
    "    good_state = bools2str(imat2edges(ix, imat)[::-1])\n",
    "    num_obj_qubits = len(good_state)\n",
    "    oracle = Bitflip2Phaseflip(Dist_check(ix, ds))\n",
    "    problem = alg.AmplificationProblem(oracle, \n",
    "        objective_qubits=range(num_obj_qubits), \n",
    "        is_good_state=[good_state])\n",
    "    iterations = alg.Grover.optimal_num_iterations(\n",
    "        num_solutions=1, num_qubits=num_obj_qubits)\n",
    "    print(f'''Grower setup for  \n",
    "    {iterations = }\n",
    "    {ix.num_nodes = }\n",
    "    {good_state         = }\n",
    "    ''')\n",
    "    return problem, iterations"
   ]
  },
  {
   "cell_type": "code",
   "execution_count": null,
   "metadata": {},
   "outputs": [],
   "source": [
    "import qiskit as qk\n",
    "sampler = qk.primitives.Sampler()"
   ]
  },
  {
   "cell_type": "code",
   "execution_count": null,
   "metadata": {},
   "outputs": [],
   "source": [
    "# Test with\n",
    "# 0 - 1 - 2\n",
    "imat = np.full((3,3), False)\n",
    "imat[0, 1] = True\n",
    "imat[1, 2] = True\n",
    "problem, iterations = setup_grower(imat)\n",
    "\n",
    "grover = alg.Grover(iterations=iterations, sampler=sampler)\n",
    "result = grover.amplify(problem)\n",
    "print(f'''\n",
    "{result.oracle_evaluation = }\n",
    "{result.top_measurement = }\n",
    "''')"
   ]
  },
  {
   "cell_type": "code",
   "execution_count": null,
   "metadata": {},
   "outputs": [],
   "source": [
    "# Test with\n",
    "# 0 - 1\n",
    "#   / |\n",
    "# 3   2\n",
    "imat = np.full((4,4), False)\n",
    "imat[0, 1] = True\n",
    "imat[1, 2] = True\n",
    "imat[1, 3] = True\n",
    "problem, iterations = setup_grower(imat)\n",
    "\n",
    "grover = alg.Grover(iterations=iterations, sampler=sampler)\n",
    "result = grover.amplify(problem)\n",
    "print(f'''\n",
    "{result.oracle_evaluation = }\n",
    "{result.top_measurement = }\n",
    "''')"
   ]
  }
 ],
 "metadata": {
  "kernelspec": {
   "display_name": "ibm",
   "language": "python",
   "name": "python3"
  },
  "language_info": {
   "codemirror_mode": {
    "name": "ipython",
    "version": 3
   },
   "file_extension": ".py",
   "mimetype": "text/x-python",
   "name": "python",
   "nbconvert_exporter": "python",
   "pygments_lexer": "ipython3",
   "version": "3.10.10"
  }
 },
 "nbformat": 4,
 "nbformat_minor": 2
}
